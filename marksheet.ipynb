{
  "nbformat": 4,
  "nbformat_minor": 0,
  "metadata": {
    "colab": {
      "provenance": []
    },
    "kernelspec": {
      "name": "python3",
      "display_name": "Python 3"
    },
    "language_info": {
      "name": "python"
    }
  },
  "cells": [
    {
      "cell_type": "code",
      "execution_count": null,
      "metadata": {
        "colab": {
          "base_uri": "https://localhost:8080/"
        },
        "id": "G-qQOZhMCPtd",
        "outputId": "18f50cb7-c12a-4ea1-d999-57a767c92255"
      },
      "outputs": [
        {
          "output_type": "stream",
          "name": "stdout",
          "text": [
            "---student data---\n",
            "Enter student name: Alishba\n",
            "enter father name: Ahmed Hassan\n",
            "enter rollno: 447725\n",
            "----Marks----\n",
            "Enter marks in Maths: 78\n",
            "Enter marks in Physics: 69\n",
            "Enter marks in Chemistry: 75\n",
            "Enter marks in English: 89\n",
            "\n",
            "--------- Marksheet ---------\n",
            "Student Name: Ahmed Hassan\n",
            "Maths: 78.0\n",
            "Physics: 69.0\n",
            "Chemistry: 75.0\n",
            "English: 89.0\n",
            "Total Marks: 311.0\n",
            "Percentage: 77.75\n",
            "Grade: B\n"
          ]
        }
      ],
      "source": [
        "print(\"---student data---\")\n",
        "name = input(\"Enter student name: \")\n",
        "name = input(\"enter father name: \")\n",
        "rollno = int(input(\"enter rollno: \"))\n",
        "print(\"----Marks----\")\n",
        "maths = float(input(\"Enter marks in Maths: \"))\n",
        "physics = float(input(\"Enter marks in Physics: \"))\n",
        "chemistry = float(input(\"Enter marks in Chemistry: \"))\n",
        "english = float(input(\"Enter marks in English: \"))\n",
        "total_marks = maths + physics + chemistry + english\n",
        "percentage = (total_marks / 400) * 100\n",
        "if percentage >= 90:\n",
        "    grade = 'A+'\n",
        "elif percentage >= 80:\n",
        "    grade = 'A'\n",
        "elif percentage >= 70:\n",
        "    grade = 'B'\n",
        "elif percentage >= 60:\n",
        "    grade = 'C'\n",
        "elif percentage >= 50:\n",
        "    grade = 'D'\n",
        "else:\n",
        "      grade= 'E'\n",
        "print(\"\\n--------- Marksheet ---------\")\n",
        "print(\"Student Name:\", name)\n",
        "print(\"Maths:\", maths)\n",
        "print(\"Physics:\", physics)\n",
        "print(\"Chemistry:\", chemistry)\n",
        "print(\"English:\", english)\n",
        "print(\"Total Marks:\", total_marks)\n",
        "print(\"Percentage:\", percentage)\n",
        "print(\"Grade:\", grade)\n"
      ]
    }
  ]
}